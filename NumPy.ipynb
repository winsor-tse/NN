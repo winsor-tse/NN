{
 "cells": [
  {
   "cell_type": "code",
   "execution_count": 1,
   "metadata": {},
   "outputs": [
    {
     "name": "stdout",
     "output_type": "stream",
     "text": [
      "Python list operations:\n",
      "a+b: [1, 2, 3, 4, 5, 6]\n",
      "a*b has no meaning for Python lists\n",
      "\n",
      "numpy array operations:\n",
      "a+b: [5 7 9]\n",
      "a*b: [ 4 10 18]\n"
     ]
    },
    {
     "data": {
      "text/plain": [
       "'\\nPython list operations:\\na+b: [1, 2, 3, 4, 5, 6]\\na*b has no meaning for Python lists\\nnumpy array operations:\\na+b: [5 7 9]\\na*b: [ 4 10 18]\\n'"
      ]
     },
     "execution_count": 1,
     "metadata": {},
     "output_type": "execute_result"
    }
   ],
   "source": [
    "import numpy as np\n",
    "print(\"Python list operations:\")\n",
    "a = [1,2,3]\n",
    "b = [4,5,6]\n",
    "print(\"a+b:\", a+b)\n",
    "try:\n",
    "    print(a*b)\n",
    "except TypeError:\n",
    "    print(\"a*b has no meaning for Python lists\")\n",
    "print()\n",
    "print(\"numpy array operations:\")\n",
    "a = np.array([1,2,3])\n",
    "b = np.array([4,5,6])\n",
    "print(\"a+b:\", a+b)\n",
    "print(\"a*b:\", a*b)\n",
    "\"\"\"\n",
    "Python list operations:\n",
    "a+b: [1, 2, 3, 4, 5, 6]\n",
    "a*b has no meaning for Python lists\n",
    "numpy array operations:\n",
    "a+b: [5 7 9]\n",
    "a*b: [ 4 10 18]\n",
    "\"\"\""
   ]
  },
  {
   "cell_type": "code",
   "execution_count": 4,
   "metadata": {},
   "outputs": [
    {
     "name": "stdout",
     "output_type": "stream",
     "text": [
      "a:\n",
      "[1 2 3]\n",
      "a.sum(axis=0): [4 6]\n",
      "a.sum(axis=1): [3 7]\n"
     ]
    }
   ],
   "source": [
    "\"\"\"ArithmeticError\n",
    "NumPy’s ndarrays also support applying functions along these axes in intuitive\n",
    "ways. For example, summing along axis 0 (the rows for a 2D array) essentially\n",
    "“collapses the array” along that axis, returning an array with one less dimension\n",
    "than the original array; for a 2D array, this is equivalent to summing each\n",
    "column\n",
    "\n",
    "a:\n",
    "[[1 2]\n",
    "[3 4]]\n",
    "a.sum(axis=0): [4 6]\n",
    "a.sum(axis=1): [3 7]\n",
    "\n",
    "\"\"\"\n",
    "print('a:')\n",
    "print(a)\n",
    "\n",
    "a = np.array([[1,2],[3,4]])\n",
    "\n",
    "print('a.sum(axis=0):', a.sum(axis=0))\n",
    "print('a.sum(axis=1):', a.sum(axis=1))"
   ]
  }
 ],
 "metadata": {
  "kernelspec": {
   "display_name": "Python 3",
   "language": "python",
   "name": "python3"
  },
  "language_info": {
   "codemirror_mode": {
    "name": "ipython",
    "version": 3
   },
   "file_extension": ".py",
   "mimetype": "text/x-python",
   "name": "python",
   "nbconvert_exporter": "python",
   "pygments_lexer": "ipython3",
   "version": "3.11.9"
  }
 },
 "nbformat": 4,
 "nbformat_minor": 2
}
